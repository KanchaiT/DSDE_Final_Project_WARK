{
 "cells": [
  {
   "cell_type": "code",
   "execution_count": null,
   "metadata": {},
   "outputs": [
    {
     "name": "stdout",
     "output_type": "stream",
     "text": [
      "Requirement already satisfied: pandas in c:\\users\\lenovo\\miniconda3\\envs\\sklearn-env\\lib\\site-packages (2.2.3)Note: you may need to restart the kernel to use updated packages.\n",
      "\n",
      "Requirement already satisfied: numpy>=1.26.0 in c:\\users\\lenovo\\miniconda3\\envs\\sklearn-env\\lib\\site-packages (from pandas) (2.1.3)\n",
      "Requirement already satisfied: python-dateutil>=2.8.2 in c:\\users\\lenovo\\miniconda3\\envs\\sklearn-env\\lib\\site-packages (from pandas) (2.9.0.post0)\n",
      "Requirement already satisfied: pytz>=2020.1 in c:\\users\\lenovo\\miniconda3\\envs\\sklearn-env\\lib\\site-packages (from pandas) (2024.2)\n",
      "Requirement already satisfied: tzdata>=2022.7 in c:\\users\\lenovo\\miniconda3\\envs\\sklearn-env\\lib\\site-packages (from pandas) (2024.2)\n",
      "Requirement already satisfied: six>=1.5 in c:\\users\\lenovo\\miniconda3\\envs\\sklearn-env\\lib\\site-packages (from python-dateutil>=2.8.2->pandas) (1.17.0)\n"
     ]
    }
   ],
   "source": [
    "%pip install pandas"
   ]
  },
  {
   "cell_type": "code",
   "execution_count": 14,
   "metadata": {},
   "outputs": [
    {
     "data": {
      "text/plain": [
       "(20216, 6)"
      ]
     },
     "execution_count": 14,
     "metadata": {},
     "output_type": "execute_result"
    }
   ],
   "source": [
    "import pandas as pd\n",
    "import numpy as np\n",
    "\n",
    "path_to_csv = \"C:/Users/Public/Documents/My/DataSci/DSDE_Final_Project_WARK/Data_Aj/joined_2018-2023.csv\"\n",
    "df = pd.read_csv(path_to_csv)\n",
    "\n",
    "df.shape"
   ]
  },
  {
   "cell_type": "code",
   "execution_count": 15,
   "metadata": {},
   "outputs": [
    {
     "data": {
      "text/html": [
       "<div>\n",
       "<style scoped>\n",
       "    .dataframe tbody tr th:only-of-type {\n",
       "        vertical-align: middle;\n",
       "    }\n",
       "\n",
       "    .dataframe tbody tr th {\n",
       "        vertical-align: top;\n",
       "    }\n",
       "\n",
       "    .dataframe thead th {\n",
       "        text-align: right;\n",
       "    }\n",
       "</style>\n",
       "<table border=\"1\" class=\"dataframe\">\n",
       "  <thead>\n",
       "    <tr style=\"text-align: right;\">\n",
       "      <th></th>\n",
       "      <th>citation_title</th>\n",
       "      <th>abstracts</th>\n",
       "      <th>authors</th>\n",
       "      <th>classifications</th>\n",
       "      <th>subject_area_name</th>\n",
       "      <th>subject_area_code</th>\n",
       "    </tr>\n",
       "  </thead>\n",
       "  <tbody>\n",
       "    <tr>\n",
       "      <th>20211</th>\n",
       "      <td>Long-chain bio-olefins production via oxidativ...</td>\n",
       "      <td>© 2021 Elsevier B.V.Long-chain α-olefins (≥ C1...</td>\n",
       "      <td>Le Duy; Chaidherasuwet Nattaporn; Rueangthawee...</td>\n",
       "      <td>CPXCLASS: 549.3, 801.4, 802.1, 802.2, 803, 804...</td>\n",
       "      <td>Catalysis; Chemistry (all)</td>\n",
       "      <td>1503; 1600</td>\n",
       "    </tr>\n",
       "    <tr>\n",
       "      <th>20212</th>\n",
       "      <td>Recent Developments and Applications of Microf...</td>\n",
       "      <td>© 2021 Taylor &amp; Francis Group, LLC.Nowadays, f...</td>\n",
       "      <td>Alahmad Waleed; Varanusupakul Puttaruksa; Vara...</td>\n",
       "      <td>CPXCLASS: 461.6, 461.7, 461.9.2, 632.5.1, 801,...</td>\n",
       "      <td>Analytical Chemistry</td>\n",
       "      <td>1602</td>\n",
       "    </tr>\n",
       "    <tr>\n",
       "      <th>20213</th>\n",
       "      <td>Social justice, education and peacebuilding: c...</td>\n",
       "      <td>© 2021 The Author(s). Published by Informa UK ...</td>\n",
       "      <td>Pherali Tejendra</td>\n",
       "      <td>ASJC: 3304; SUBJABBR: SOCI</td>\n",
       "      <td>Education</td>\n",
       "      <td>3304</td>\n",
       "    </tr>\n",
       "    <tr>\n",
       "      <th>20214</th>\n",
       "      <td>Effects of black soldier fly (Hermetia illucen...</td>\n",
       "      <td>© 2021 Taylor &amp; Francis.The effects of replaci...</td>\n",
       "      <td>Mapanao Ratchaneegorn; Jiwyam Wirat; Nithikulw...</td>\n",
       "      <td>GEOCLASS: 73.9.4; ASJC: 2303, 1104; SUBJABBR: ...</td>\n",
       "      <td>Ecology; Aquatic Science</td>\n",
       "      <td>2303; 1104</td>\n",
       "    </tr>\n",
       "    <tr>\n",
       "      <th>20215</th>\n",
       "      <td>Effects of remittances on household poverty an...</td>\n",
       "      <td>© 2021 Informa UK Limited, trading as Taylor &amp;...</td>\n",
       "      <td>Chea Vatana</td>\n",
       "      <td>GEOCLASS: 70.12.6, 74.28; ASJC: 3305, 3303, 33...</td>\n",
       "      <td>Geography, Planning and Development; Developme...</td>\n",
       "      <td>3305; 3303; 3320</td>\n",
       "    </tr>\n",
       "  </tbody>\n",
       "</table>\n",
       "</div>"
      ],
      "text/plain": [
       "                                          citation_title  \\\n",
       "20211  Long-chain bio-olefins production via oxidativ...   \n",
       "20212  Recent Developments and Applications of Microf...   \n",
       "20213  Social justice, education and peacebuilding: c...   \n",
       "20214  Effects of black soldier fly (Hermetia illucen...   \n",
       "20215  Effects of remittances on household poverty an...   \n",
       "\n",
       "                                               abstracts  \\\n",
       "20211  © 2021 Elsevier B.V.Long-chain α-olefins (≥ C1...   \n",
       "20212  © 2021 Taylor & Francis Group, LLC.Nowadays, f...   \n",
       "20213  © 2021 The Author(s). Published by Informa UK ...   \n",
       "20214  © 2021 Taylor & Francis.The effects of replaci...   \n",
       "20215  © 2021 Informa UK Limited, trading as Taylor &...   \n",
       "\n",
       "                                                 authors  \\\n",
       "20211  Le Duy; Chaidherasuwet Nattaporn; Rueangthawee...   \n",
       "20212  Alahmad Waleed; Varanusupakul Puttaruksa; Vara...   \n",
       "20213                                   Pherali Tejendra   \n",
       "20214  Mapanao Ratchaneegorn; Jiwyam Wirat; Nithikulw...   \n",
       "20215                                        Chea Vatana   \n",
       "\n",
       "                                         classifications  \\\n",
       "20211  CPXCLASS: 549.3, 801.4, 802.1, 802.2, 803, 804...   \n",
       "20212  CPXCLASS: 461.6, 461.7, 461.9.2, 632.5.1, 801,...   \n",
       "20213                         ASJC: 3304; SUBJABBR: SOCI   \n",
       "20214  GEOCLASS: 73.9.4; ASJC: 2303, 1104; SUBJABBR: ...   \n",
       "20215  GEOCLASS: 70.12.6, 74.28; ASJC: 3305, 3303, 33...   \n",
       "\n",
       "                                       subject_area_name subject_area_code  \n",
       "20211                         Catalysis; Chemistry (all)        1503; 1600  \n",
       "20212                               Analytical Chemistry              1602  \n",
       "20213                                          Education              3304  \n",
       "20214                           Ecology; Aquatic Science        2303; 1104  \n",
       "20215  Geography, Planning and Development; Developme...  3305; 3303; 3320  "
      ]
     },
     "execution_count": 15,
     "metadata": {},
     "output_type": "execute_result"
    }
   ],
   "source": [
    "df.tail()"
   ]
  }
 ],
 "metadata": {
  "kernelspec": {
   "display_name": "sklearn-env",
   "language": "python",
   "name": "python3"
  },
  "language_info": {
   "codemirror_mode": {
    "name": "ipython",
    "version": 3
   },
   "file_extension": ".py",
   "mimetype": "text/x-python",
   "name": "python",
   "nbconvert_exporter": "python",
   "pygments_lexer": "ipython3",
   "version": "3.13.0"
  }
 },
 "nbformat": 4,
 "nbformat_minor": 2
}
