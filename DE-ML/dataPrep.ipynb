{
 "cells": [
  {
   "cell_type": "code",
   "execution_count": null,
   "metadata": {},
   "outputs": [
    {
     "name": "stdout",
     "output_type": "stream",
     "text": [
      "Requirement already satisfied: pandas in c:\\users\\lenovo\\miniconda3\\envs\\sklearn-env\\lib\\site-packages (2.2.3)Note: you may need to restart the kernel to use updated packages.\n",
      "\n",
      "Requirement already satisfied: numpy>=1.26.0 in c:\\users\\lenovo\\miniconda3\\envs\\sklearn-env\\lib\\site-packages (from pandas) (2.1.3)\n",
      "Requirement already satisfied: python-dateutil>=2.8.2 in c:\\users\\lenovo\\miniconda3\\envs\\sklearn-env\\lib\\site-packages (from pandas) (2.9.0.post0)\n",
      "Requirement already satisfied: pytz>=2020.1 in c:\\users\\lenovo\\miniconda3\\envs\\sklearn-env\\lib\\site-packages (from pandas) (2024.2)\n",
      "Requirement already satisfied: tzdata>=2022.7 in c:\\users\\lenovo\\miniconda3\\envs\\sklearn-env\\lib\\site-packages (from pandas) (2024.2)\n",
      "Requirement already satisfied: six>=1.5 in c:\\users\\lenovo\\miniconda3\\envs\\sklearn-env\\lib\\site-packages (from python-dateutil>=2.8.2->pandas) (1.17.0)\n"
     ]
    }
   ],
   "source": [
    "%pip install pandas"
   ]
  },
  {
   "cell_type": "code",
   "execution_count": null,
   "metadata": {},
   "outputs": [
    {
     "data": {
      "text/plain": [
       "(2792, 6)"
      ]
     },
     "execution_count": 9,
     "metadata": {},
     "output_type": "execute_result"
    }
   ],
   "source": [
    "import pandas as pd\n",
    "import numpy as np\n",
    "\n",
    "path_to_csv = \"C:/Users/Public/Documents/My/DataSci/DSDE_Final_Project_WARK/Data_Aj/output_data_2018.csv\"\n",
    "df = pd.read_csv(path_to_csv)\n",
    "\n",
    "df.shape"
   ]
  },
  {
   "cell_type": "code",
   "execution_count": 10,
   "metadata": {},
   "outputs": [
    {
     "data": {
      "text/html": [
       "<div>\n",
       "<style scoped>\n",
       "    .dataframe tbody tr th:only-of-type {\n",
       "        vertical-align: middle;\n",
       "    }\n",
       "\n",
       "    .dataframe tbody tr th {\n",
       "        vertical-align: top;\n",
       "    }\n",
       "\n",
       "    .dataframe thead th {\n",
       "        text-align: right;\n",
       "    }\n",
       "</style>\n",
       "<table border=\"1\" class=\"dataframe\">\n",
       "  <thead>\n",
       "    <tr style=\"text-align: right;\">\n",
       "      <th></th>\n",
       "      <th>citation_title</th>\n",
       "      <th>abstracts</th>\n",
       "      <th>authors</th>\n",
       "      <th>classifications</th>\n",
       "      <th>subject_area_name</th>\n",
       "      <th>subject_area_code</th>\n",
       "    </tr>\n",
       "  </thead>\n",
       "  <tbody>\n",
       "    <tr>\n",
       "      <th>0</th>\n",
       "      <td>Public health and international epidemiology f...</td>\n",
       "      <td>-</td>\n",
       "      <td>Pongpirul Krit; Lungren Matthew P.</td>\n",
       "      <td>ASJC: 2700; SUBJABBR: MEDI</td>\n",
       "      <td>Medicine (all)</td>\n",
       "      <td>2700</td>\n",
       "    </tr>\n",
       "    <tr>\n",
       "      <th>1</th>\n",
       "      <td>Flexible Printed Active Antenna for Digital Te...</td>\n",
       "      <td>© 2018 The Institute of Electronics, Informati...</td>\n",
       "      <td>Pratumsiri Teerapong; Janpugdee Panuwat</td>\n",
       "      <td>ASJC: 2208, 2504; CPXCLASS: 402, 714.2, 716, 7...</td>\n",
       "      <td>Electrical and Electronic Engineering; Electro...</td>\n",
       "      <td>2208; 2504</td>\n",
       "    </tr>\n",
       "    <tr>\n",
       "      <th>2</th>\n",
       "      <td>Parametric study of hydrogen production via so...</td>\n",
       "      <td>© 2018 Elsevier LtdComputational fluid dynamic...</td>\n",
       "      <td>Phuakpunk Kiattikhoon; Chalermsinsuwan Benjapo...</td>\n",
       "      <td>CPXCLASS: 522, 723.5, 802.2, 802.3, 803, 804, ...</td>\n",
       "      <td>Chemistry (all); Chemical Engineering (all); I...</td>\n",
       "      <td>1600; 1500; 2209</td>\n",
       "    </tr>\n",
       "    <tr>\n",
       "      <th>3</th>\n",
       "      <td>Superhydrophobic coating from fluoroalkylsilan...</td>\n",
       "      <td>© 2018 Elsevier B.V. A superhydrophobic/supero...</td>\n",
       "      <td>Saengkaew Jittraporn; Le Duy; Samart Chanatip;...</td>\n",
       "      <td>CPXCLASS: 641.1, 723.5, 802.3, 813.2, 818.1, 9...</td>\n",
       "      <td>Chemistry (all); Condensed Matter Physics; Phy...</td>\n",
       "      <td>1600; 3104; 3100; 3110; 2508</td>\n",
       "    </tr>\n",
       "    <tr>\n",
       "      <th>4</th>\n",
       "      <td>Electrochemical impedance-based DNA sensor usi...</td>\n",
       "      <td>© 2018 Elsevier B.V. A label-free electrochemi...</td>\n",
       "      <td>Teengam Prinjaporn; Siangproh Weena; Tuantrano...</td>\n",
       "      <td>EMCLASS: 4; ASJC: 1602, 1303, 2304, 1607; SUBJ...</td>\n",
       "      <td>Analytical Chemistry; Biochemistry; Environmen...</td>\n",
       "      <td>1602; 1303; 2304; 1607</td>\n",
       "    </tr>\n",
       "  </tbody>\n",
       "</table>\n",
       "</div>"
      ],
      "text/plain": [
       "                                      citation_title  \\\n",
       "0  Public health and international epidemiology f...   \n",
       "1  Flexible Printed Active Antenna for Digital Te...   \n",
       "2  Parametric study of hydrogen production via so...   \n",
       "3  Superhydrophobic coating from fluoroalkylsilan...   \n",
       "4  Electrochemical impedance-based DNA sensor usi...   \n",
       "\n",
       "                                           abstracts  \\\n",
       "0                                                  -   \n",
       "1  © 2018 The Institute of Electronics, Informati...   \n",
       "2  © 2018 Elsevier LtdComputational fluid dynamic...   \n",
       "3  © 2018 Elsevier B.V. A superhydrophobic/supero...   \n",
       "4  © 2018 Elsevier B.V. A label-free electrochemi...   \n",
       "\n",
       "                                             authors  \\\n",
       "0                 Pongpirul Krit; Lungren Matthew P.   \n",
       "1            Pratumsiri Teerapong; Janpugdee Panuwat   \n",
       "2  Phuakpunk Kiattikhoon; Chalermsinsuwan Benjapo...   \n",
       "3  Saengkaew Jittraporn; Le Duy; Samart Chanatip;...   \n",
       "4  Teengam Prinjaporn; Siangproh Weena; Tuantrano...   \n",
       "\n",
       "                                     classifications  \\\n",
       "0                         ASJC: 2700; SUBJABBR: MEDI   \n",
       "1  ASJC: 2208, 2504; CPXCLASS: 402, 714.2, 716, 7...   \n",
       "2  CPXCLASS: 522, 723.5, 802.2, 802.3, 803, 804, ...   \n",
       "3  CPXCLASS: 641.1, 723.5, 802.3, 813.2, 818.1, 9...   \n",
       "4  EMCLASS: 4; ASJC: 1602, 1303, 2304, 1607; SUBJ...   \n",
       "\n",
       "                                   subject_area_name  \\\n",
       "0                                     Medicine (all)   \n",
       "1  Electrical and Electronic Engineering; Electro...   \n",
       "2  Chemistry (all); Chemical Engineering (all); I...   \n",
       "3  Chemistry (all); Condensed Matter Physics; Phy...   \n",
       "4  Analytical Chemistry; Biochemistry; Environmen...   \n",
       "\n",
       "              subject_area_code  \n",
       "0                          2700  \n",
       "1                    2208; 2504  \n",
       "2              1600; 1500; 2209  \n",
       "3  1600; 3104; 3100; 3110; 2508  \n",
       "4        1602; 1303; 2304; 1607  "
      ]
     },
     "execution_count": 10,
     "metadata": {},
     "output_type": "execute_result"
    }
   ],
   "source": [
    "df.head()"
   ]
  }
 ],
 "metadata": {
  "kernelspec": {
   "display_name": "sklearn-env",
   "language": "python",
   "name": "python3"
  },
  "language_info": {
   "codemirror_mode": {
    "name": "ipython",
    "version": 3
   },
   "file_extension": ".py",
   "mimetype": "text/x-python",
   "name": "python",
   "nbconvert_exporter": "python",
   "pygments_lexer": "ipython3",
   "version": "3.13.0"
  }
 },
 "nbformat": 4,
 "nbformat_minor": 2
}
